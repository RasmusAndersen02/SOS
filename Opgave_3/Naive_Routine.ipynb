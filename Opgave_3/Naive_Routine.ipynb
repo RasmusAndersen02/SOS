{
 "cells": [
  {
   "cell_type": "code",
   "execution_count": 10,
   "id": "a5e553d5",
   "metadata": {},
   "outputs": [],
   "source": [
    "import os\n",
    "import glob\n",
    "import numpy as np\n",
    "import pandas as pd\n",
    "\n",
    "dir_path = './Korpus'\n",
    "df_file = pd.DataFrame(columns=['file', 'content'])\n",
    "\n",
    "for file_path in glob.glob(os.path.join(dir_path, '*.txt')):\n",
    "    with open(file_path, 'r', encoding='utf-8') as file:\n",
    "        file_name = os.path.basename(file_path)\n",
    "        df_file.loc[len(df_file)] = [file_name, file.read()]\n",
    "\n",
    "df_file.to_csv('korpus.csv')"
   ]
  },
  {
   "cell_type": "code",
   "execution_count": null,
   "id": "aec2c96e",
   "metadata": {},
   "outputs": [
    {
     "data": {
      "text/plain": [
       "['Behandling for diabetes 2.txt', 'Livsstil.txt', 'Mad.txt', 'Motion.txt']"
      ]
     },
     "execution_count": 9,
     "metadata": {},
     "output_type": "execute_result"
    }
   ],
   "source": [
    "def SearchRoutine (input):\n",
    "    files = []\n",
    "    for idx, row in df_file.iterrows():\n",
    "        if input in row['content']:\n",
    "            files.append(row['file'])\n",
    "    return files\n",
    "        \n",
    "SearchRoutine ('man har')"
   ]
  }
 ],
 "metadata": {
  "kernelspec": {
   "display_name": "Python 3",
   "language": "python",
   "name": "python3"
  },
  "language_info": {
   "codemirror_mode": {
    "name": "ipython",
    "version": 3
   },
   "file_extension": ".py",
   "mimetype": "text/x-python",
   "name": "python",
   "nbconvert_exporter": "python",
   "pygments_lexer": "ipython3",
   "version": "3.11.1"
  }
 },
 "nbformat": 4,
 "nbformat_minor": 5
}
