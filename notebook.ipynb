{
 "cells": [
  {
   "cell_type": "code",
   "execution_count": 1,
   "id": "49d44481",
   "metadata": {},
   "outputs": [],
   "source": [
    "import numpy as np\n",
    "import pandas as pd\n",
    "import emoji\n",
    "import re\n",
    "import os\n",
    "import nltk\n",
    "from emosent import get_emoji_sentiment_rank, get_emoji_sentiment_rank_multiple\n",
    "\n",
    "from nltk.tokenize import word_tokenize\n",
    "from nltk.stem import WordNetLemmatizer\n",
    "import lemmy\n",
    "\n"
   ]
  },
  {
   "cell_type": "code",
   "execution_count": 2,
   "id": "06d2f0af",
   "metadata": {},
   "outputs": [],
   "source": [
    "df_lookup = pd.read_excel('2_headword_headword_polarity.xlsx', header=None)\n",
    "df_lookup.columns = [\"word\", \"instances\", \"type\", \"idk\", \"sentiment\", \"similar\"]\n",
    "\n",
    "df_lookup_sorted = df_lookup\n",
    "\n",
    "df_lookup_sorted['similar'] = df_lookup['similar'].str.split(';')\n",
    "\n",
    "df_lookup_expanded = df_lookup_sorted.explode('similar')\n",
    "df_lookup_expanded = df_lookup_expanded.rename(columns={'similar': 'similar_word'}).reset_index(drop=True)\n",
    "df_lookup_expanded['similar_word'] = df_lookup_expanded['similar_word'].astype(str).str.strip().str.lower()\n",
    "df_lookup_expanded = df_lookup_expanded.sort_values(by='similar_word')\n",
    "\n",
    "df_init = pd.read_excel('Mappe1.xlsx')\n",
    "df_init['Tokenized Tweet Length'] = df_init['TEXT'].apply(lambda x: len(nltk.word_tokenize(str.lower(x))))\n"
   ]
  },
  {
   "cell_type": "code",
   "execution_count": 3,
   "id": "5627acc0",
   "metadata": {},
   "outputs": [
    {
     "name": "stdout",
     "output_type": "stream",
     "text": [
      "None\n"
     ]
    }
   ],
   "source": [
    "# Takes string returns sentiment (int/None)\n",
    "# def WordScore(word):\n",
    "#     idx = df_lookup_expanded['similar_word'].searchsorted(word.lower())\n",
    "#     if idx < len(df_lookup_expanded) and df_lookup_expanded.iloc[idx]['similar_word'] == word:\n",
    "#         print(word)\n",
    "#         return df_lookup_expanded.iloc[idx]['sentiment']\n",
    "#     else: return CompoundWords(word)\n",
    "\n",
    "# print(WordScore('superhelt'))\n",
    "def WordScore(word):\n",
    "    return LookupWord(word)\n",
    "\n",
    "def LookupWord(word):\n",
    "    idx = df_lookup_expanded['similar_word'].searchsorted(word.lower())\n",
    "    if idx < len(df_lookup_expanded) and df_lookup_expanded.iloc[idx]['similar_word'] == word:\n",
    "        return df_lookup_expanded.iloc[idx]['sentiment']\n",
    "    return None\n",
    "\n",
    "print(WordScore('vi'))"
   ]
  },
  {
   "cell_type": "code",
   "execution_count": 4,
   "id": "697539b5",
   "metadata": {},
   "outputs": [],
   "source": [
    "# def CompoundWords(word):\n",
    "#     for i in range (1,len(word)):\n",
    "#         fst = WordScore(word[:i])\n",
    "#         snd = WordScore(word[i:])\n",
    "#         print(word[:i], \"og\", word[i:] )\n",
    "#         if fst is not None and snd is not None:\n",
    "#             return (fst+snd) / 2\n",
    "#         else: continue\n",
    "#     return None\n",
    "\n",
    "# print(CompoundWords(\"sut\"))\n",
    "def CompoundWords(word):\n",
    "    for i in range(1, len(word)):\n",
    "        fst = LookupWord(word[:i])\n",
    "        snd = LookupWord(word[i:])\n",
    "        print(word[:i], \"og\", word[i:])\n",
    "        if fst is not None and snd is not None:\n",
    "            return (fst + snd) / 2\n",
    "    return None\n",
    "\n"
   ]
  },
  {
   "cell_type": "code",
   "execution_count": 5,
   "id": "6e6531f7",
   "metadata": {},
   "outputs": [
    {
     "name": "stdout",
     "output_type": "stream",
     "text": [
      "[['``', None], ['ole', None], ['er', None], ['en', None], ['god', 3], ['mand', None], ['der', None], ['holder', None], ['sine', None], ['løfter', 1], ['.', None], ['han', None], ['finder', None], ['sit', None], ['arbejde', None], ['meningsfuldt', 1], ['og', None], ['elsker', 1], ['at', None], ['finde', None], ['løsninger', 1], ['til', None], ['hverdagens', None], ['puslespil', None], ['.', None], ['han', None], ['kan', None], ['godt', 2], ['lide', None], ['madonna', 1], ['og', None], ['har', None], ['madlyst', 1], ['om', None], ['torsdagen', None], ['.', None], ['en', None], ['kæk', 1], ['observant', 1], ['knejt', None], ['siger', None], ['mange', None]]\n"
     ]
    }
   ],
   "source": [
    "# Takes string returns ensemble sentiment\n",
    "def TweetScores(tweet, neg_lst = ['ikke'], intensity_lst = ['meget', 'især', 'bedste']):\n",
    "    ens_sentiment = []\n",
    "    mod = 1 \n",
    "    tweet_tokenized = nltk.word_tokenize(str.lower(tweet))\n",
    "    for word in tweet_tokenized:\n",
    "        curr_sent = WordScore(word)\n",
    "        ens_sentiment.append([word, curr_sent * mod if curr_sent is not None else curr_sent])\n",
    "\n",
    "        if word in neg_lst:\n",
    "            mod = -1\n",
    "        elif word in intensity_lst:\n",
    "            mod = 2\n",
    "        else: mod = 1\n",
    "\n",
    "    emoji_sent_lst = get_emoji_sentiment_rank_multiple(tweet)\n",
    "    for emoji in emoji_sent_lst:\n",
    "        ens_sentiment.append([emoji['emoji_sentiment_rank']['unicode_name'], emoji['emoji_sentiment_rank']['sentiment_score'] * 5])\n",
    "\n",
    "    \n",
    "    return ens_sentiment\n",
    "\n",
    "\n",
    "print(TweetScores('\"Ole er en god mand der holder sine løfter. Han finder sit arbejde meningsfuldt og elsker at finde løsninger til hverdagens puslespil. Han kan godt lide madonna og har madlyst om torsdagen. En kæk observant knejt siger mange '))\n",
    "        \n"
   ]
  },
  {
   "cell_type": "code",
   "execution_count": 6,
   "id": "e194b245",
   "metadata": {},
   "outputs": [],
   "source": [
    "def get_total_sentiment(tweet):\n",
    "    total = 0\n",
    "    count = 0\n",
    "    for item in TweetScores(tweet):\n",
    "        if isinstance(item, list) and item[1] is not None:\n",
    "            total += item[1]\n",
    "            count += 1\n",
    "        elif isinstance(item, (int, float)):  # emoji score\n",
    "            total += item\n",
    "            count += 1\n",
    "    return total, count\n",
    "\n",
    "df_init[['Total Auto Sentiment', 'Token Count']] = df_init['TEXT'].apply(\n",
    "    lambda x: pd.Series(get_total_sentiment(x))\n",
    ")\n",
    "\n",
    "df_init['Avg Auto Sentiment'] = df_init['Total Auto Sentiment'] / df_init['Token Count']\n",
    "\n"
   ]
  },
  {
   "cell_type": "code",
   "execution_count": 7,
   "id": "713d90ea",
   "metadata": {},
   "outputs": [
    {
     "name": "stdout",
     "output_type": "stream",
     "text": [
      "0.25   -2.0\n",
      "0.50   -1.0\n",
      "0.75    1.0\n",
      "Name: sentiment, dtype: float64\n"
     ]
    }
   ],
   "source": [
    "threshhold = df_lookup_expanded['sentiment'].quantile([0.25, 0.5, 0.75])\n",
    "print(threshhold)\n",
    "\n",
    "df_init['Quant Sentiment'] = df_init['Avg Auto Sentiment'].apply(\n",
    "    lambda x: 'Positive' if x >= 1 else ('Negative' if x <= -2 else 'Neutral'))\n",
    "\n"
   ]
  }
 ],
 "metadata": {
  "kernelspec": {
   "display_name": "Python 3",
   "language": "python",
   "name": "python3"
  },
  "language_info": {
   "codemirror_mode": {
    "name": "ipython",
    "version": 3
   },
   "file_extension": ".py",
   "mimetype": "text/x-python",
   "name": "python",
   "nbconvert_exporter": "python",
   "pygments_lexer": "ipython3",
   "version": "3.11.1"
  }
 },
 "nbformat": 4,
 "nbformat_minor": 5
}
